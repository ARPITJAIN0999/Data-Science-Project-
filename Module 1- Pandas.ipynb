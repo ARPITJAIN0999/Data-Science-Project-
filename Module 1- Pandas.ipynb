{
 "cells": [
  {
   "cell_type": "markdown",
   "metadata": {},
   "source": [
    "# Module 1"
   ]
  },
  {
   "cell_type": "markdown",
   "metadata": {},
   "source": [
    "   ### Welcome to the Answer notebook for Module 1 ! \n",
    "These notebooks have been provided to code and solve all the queries asked in the modules.\n",
    "\n",
    "This environment has all the necessary libraries pre-installed, and all the Stock, Commodities and Index data files available at the following location - \n",
    "\n"
   ]
  },
  {
   "cell_type": "markdown",
   "metadata": {},
   "source": [
    "#### The problem statements and their corresponding answers are expected to be in the following format - \n",
    "\n"
   ]
  },
  {
   "cell_type": "markdown",
   "metadata": {},
   "source": [
    "#--------------------------------------------------------------------------------------------------------------------------------------------------------------------------------------------------------#"
   ]
  },
  {
   "cell_type": "markdown",
   "metadata": {},
   "source": [
    "### Query 1.1 \n",
    "Import the csv file of the stock of your choosing using 'pd.read_csv()' function into a dataframe.\n",
    "Shares of a company can be offered in more than one category. The category of a stock is indicated in the ‘Series’ column. If the csv file has data on more than one category, the ‘Date’ column will have repeating values. To avoid repetitions in the date, remove all the rows where 'Series' column is NOT 'EQ'.\n",
    "Analyze and understand each column properly.\n",
    "You'd find the head(), tail() and describe() functions to be immensely useful for exploration. You're free to carry out any other exploration of your own."
   ]
  },
  {
   "cell_type": "code",
   "execution_count": 1,
   "metadata": {},
   "outputs": [],
   "source": [
    "#The solution code should start right after the query statement, for example -\n",
    "import numpy as np \n",
    "import pandas as pd\n",
    "import warnings\n",
    "warnings.filterwarnings('ignore')\n",
    "#And solve the query"
   ]
  },
  {
   "cell_type": "code",
   "execution_count": 2,
   "metadata": {},
   "outputs": [
    {
     "data": {
      "text/html": [
       "<div>\n",
       "<style scoped>\n",
       "    .dataframe tbody tr th:only-of-type {\n",
       "        vertical-align: middle;\n",
       "    }\n",
       "\n",
       "    .dataframe tbody tr th {\n",
       "        vertical-align: top;\n",
       "    }\n",
       "\n",
       "    .dataframe thead th {\n",
       "        text-align: right;\n",
       "    }\n",
       "</style>\n",
       "<table border=\"1\" class=\"dataframe\">\n",
       "  <thead>\n",
       "    <tr style=\"text-align: right;\">\n",
       "      <th></th>\n",
       "      <th>Symbol</th>\n",
       "      <th>Series</th>\n",
       "      <th>Date</th>\n",
       "      <th>Prev Close</th>\n",
       "      <th>Open Price</th>\n",
       "      <th>High Price</th>\n",
       "      <th>Low Price</th>\n",
       "      <th>Last Price</th>\n",
       "      <th>Close Price</th>\n",
       "      <th>Average Price</th>\n",
       "      <th>Total Traded Quantity</th>\n",
       "      <th>Turnover</th>\n",
       "      <th>No. of Trades</th>\n",
       "      <th>Deliverable Qty</th>\n",
       "      <th>% Dly Qt to Traded Qty</th>\n",
       "    </tr>\n",
       "  </thead>\n",
       "  <tbody>\n",
       "    <tr>\n",
       "      <th>0</th>\n",
       "      <td>INFY</td>\n",
       "      <td>EQ</td>\n",
       "      <td>15-May-2017</td>\n",
       "      <td>964.25</td>\n",
       "      <td>963.5</td>\n",
       "      <td>963.50</td>\n",
       "      <td>949.10</td>\n",
       "      <td>953.25</td>\n",
       "      <td>951.55</td>\n",
       "      <td>951.49</td>\n",
       "      <td>3648582</td>\n",
       "      <td>3.471580e+09</td>\n",
       "      <td>75335</td>\n",
       "      <td>3052819</td>\n",
       "      <td>83.67</td>\n",
       "    </tr>\n",
       "    <tr>\n",
       "      <th>1</th>\n",
       "      <td>INFY</td>\n",
       "      <td>EQ</td>\n",
       "      <td>16-May-2017</td>\n",
       "      <td>951.55</td>\n",
       "      <td>953.1</td>\n",
       "      <td>960.15</td>\n",
       "      <td>946.95</td>\n",
       "      <td>956.00</td>\n",
       "      <td>955.00</td>\n",
       "      <td>952.92</td>\n",
       "      <td>3065084</td>\n",
       "      <td>2.920775e+09</td>\n",
       "      <td>71808</td>\n",
       "      <td>1858063</td>\n",
       "      <td>60.62</td>\n",
       "    </tr>\n",
       "    <tr>\n",
       "      <th>2</th>\n",
       "      <td>INFY</td>\n",
       "      <td>EQ</td>\n",
       "      <td>17-May-2017</td>\n",
       "      <td>955.00</td>\n",
       "      <td>951.6</td>\n",
       "      <td>958.45</td>\n",
       "      <td>943.85</td>\n",
       "      <td>952.90</td>\n",
       "      <td>952.80</td>\n",
       "      <td>949.48</td>\n",
       "      <td>1457754</td>\n",
       "      <td>1.384110e+09</td>\n",
       "      <td>75429</td>\n",
       "      <td>792251</td>\n",
       "      <td>54.35</td>\n",
       "    </tr>\n",
       "    <tr>\n",
       "      <th>3</th>\n",
       "      <td>INFY</td>\n",
       "      <td>EQ</td>\n",
       "      <td>18-May-2017</td>\n",
       "      <td>952.80</td>\n",
       "      <td>943.0</td>\n",
       "      <td>973.90</td>\n",
       "      <td>942.85</td>\n",
       "      <td>960.25</td>\n",
       "      <td>961.75</td>\n",
       "      <td>962.61</td>\n",
       "      <td>4028924</td>\n",
       "      <td>3.878282e+09</td>\n",
       "      <td>120990</td>\n",
       "      <td>2309450</td>\n",
       "      <td>57.32</td>\n",
       "    </tr>\n",
       "    <tr>\n",
       "      <th>4</th>\n",
       "      <td>INFY</td>\n",
       "      <td>EQ</td>\n",
       "      <td>19-May-2017</td>\n",
       "      <td>961.75</td>\n",
       "      <td>961.5</td>\n",
       "      <td>962.70</td>\n",
       "      <td>947.85</td>\n",
       "      <td>957.40</td>\n",
       "      <td>957.95</td>\n",
       "      <td>954.18</td>\n",
       "      <td>2128698</td>\n",
       "      <td>2.031155e+09</td>\n",
       "      <td>88897</td>\n",
       "      <td>1457747</td>\n",
       "      <td>68.48</td>\n",
       "    </tr>\n",
       "  </tbody>\n",
       "</table>\n",
       "</div>"
      ],
      "text/plain": [
       "  Symbol Series         Date  Prev Close  Open Price  High Price  Low Price  \\\n",
       "0   INFY     EQ  15-May-2017      964.25       963.5      963.50     949.10   \n",
       "1   INFY     EQ  16-May-2017      951.55       953.1      960.15     946.95   \n",
       "2   INFY     EQ  17-May-2017      955.00       951.6      958.45     943.85   \n",
       "3   INFY     EQ  18-May-2017      952.80       943.0      973.90     942.85   \n",
       "4   INFY     EQ  19-May-2017      961.75       961.5      962.70     947.85   \n",
       "\n",
       "   Last Price  Close Price  Average Price  Total Traded Quantity  \\\n",
       "0      953.25       951.55         951.49                3648582   \n",
       "1      956.00       955.00         952.92                3065084   \n",
       "2      952.90       952.80         949.48                1457754   \n",
       "3      960.25       961.75         962.61                4028924   \n",
       "4      957.40       957.95         954.18                2128698   \n",
       "\n",
       "       Turnover  No. of Trades  Deliverable Qty  % Dly Qt to Traded Qty  \n",
       "0  3.471580e+09          75335          3052819                   83.67  \n",
       "1  2.920775e+09          71808          1858063                   60.62  \n",
       "2  1.384110e+09          75429           792251                   54.35  \n",
       "3  3.878282e+09         120990          2309450                   57.32  \n",
       "4  2.031155e+09          88897          1457747                   68.48  "
      ]
     },
     "execution_count": 2,
     "metadata": {},
     "output_type": "execute_result"
    }
   ],
   "source": [
    "#Once the solution of the first query is written, it should immediately be followed by the next query\n",
    "data = pd.read_csv(\"INFY.csv\")\n",
    "\n",
    "data = data[(data == \"EQ\").any(axis=1)]\n",
    "data.head()\n"
   ]
  },
  {
   "cell_type": "markdown",
   "metadata": {},
   "source": [
    "Query 1.2\n",
    "Calculate the maximum, minimum and mean price for the last 90 days. (price=Closing Price unless stated otherwise)"
   ]
  },
  {
   "cell_type": "code",
   "execution_count": 3,
   "metadata": {},
   "outputs": [
    {
     "name": "stdout",
     "output_type": "stream",
     "text": [
      "Maximum value for last 90 days is : 658.95\n",
      "Minimum value for last 90 days is : 767.25\n",
      "Mean value for last 90 days is :  728.6027777777778\n"
     ]
    }
   ],
   "source": [
    "last90_data = data.tail(n=90)\n",
    "print(\"Maximum value for last 90 days is :\",last90_data[\"Close Price\"].min())\n",
    "print(\"Minimum value for last 90 days is :\", last90_data[\"Close Price\"].max())\n",
    "print(\"Mean value for last 90 days is : \",last90_data[\"Close Price\"].mean())"
   ]
  },
  {
   "cell_type": "markdown",
   "metadata": {},
   "source": [
    "Query 1.3 Analyse the data types for each column of the dataframe. Pandas knows how to deal with dates in an intelligent manner. But to make use of Pandas functionality for dates, you need to ensure that the column is of type 'datetime64(ns)'. Change the date column from 'object' type to 'datetime64(ns)' for future convenience. See what happens if you subtract the minimum value of the date column from the maximum value."
   ]
  },
  {
   "cell_type": "code",
   "execution_count": 4,
   "metadata": {},
   "outputs": [
    {
     "data": {
      "text/plain": [
       "Timedelta('728 days 00:00:00')"
      ]
     },
     "execution_count": 4,
     "metadata": {},
     "output_type": "execute_result"
    }
   ],
   "source": [
    "data.dtypes\n",
    "data[\"Date\"] = pd.to_datetime(data['Date'])\n",
    "a = data[\"Date\"].min()\n",
    "b= data[\"Date\"].max()\n",
    "b-a"
   ]
  },
  {
   "cell_type": "markdown",
   "metadata": {},
   "source": [
    "Query 1.4 In a separate array , calculate the monthwise VWAP (Volume Weighted Average Price ) of the stock. \n",
    "( VWAP = sum(price*volume)/sum(volume) ) "
   ]
  },
  {
   "cell_type": "code",
   "execution_count": 5,
   "metadata": {},
   "outputs": [
    {
     "data": {
      "text/html": [
       "<div>\n",
       "<style scoped>\n",
       "    .dataframe tbody tr th:only-of-type {\n",
       "        vertical-align: middle;\n",
       "    }\n",
       "\n",
       "    .dataframe tbody tr th {\n",
       "        vertical-align: top;\n",
       "    }\n",
       "\n",
       "    .dataframe thead th {\n",
       "        text-align: right;\n",
       "    }\n",
       "</style>\n",
       "<table border=\"1\" class=\"dataframe\">\n",
       "  <thead>\n",
       "    <tr style=\"text-align: right;\">\n",
       "      <th></th>\n",
       "      <th>Symbol</th>\n",
       "      <th>Series</th>\n",
       "      <th>Date</th>\n",
       "      <th>Prev Close</th>\n",
       "      <th>Open Price</th>\n",
       "      <th>High Price</th>\n",
       "      <th>Low Price</th>\n",
       "      <th>Last Price</th>\n",
       "      <th>Close Price</th>\n",
       "      <th>Average Price</th>\n",
       "      <th>Total Traded Quantity</th>\n",
       "      <th>Turnover</th>\n",
       "      <th>No. of Trades</th>\n",
       "      <th>Deliverable Qty</th>\n",
       "      <th>% Dly Qt to Traded Qty</th>\n",
       "      <th>month</th>\n",
       "      <th>year</th>\n",
       "    </tr>\n",
       "  </thead>\n",
       "  <tbody>\n",
       "    <tr>\n",
       "      <th>0</th>\n",
       "      <td>INFY</td>\n",
       "      <td>EQ</td>\n",
       "      <td>2017-05-15</td>\n",
       "      <td>964.25</td>\n",
       "      <td>963.5</td>\n",
       "      <td>963.50</td>\n",
       "      <td>949.10</td>\n",
       "      <td>953.25</td>\n",
       "      <td>951.55</td>\n",
       "      <td>951.49</td>\n",
       "      <td>3648582</td>\n",
       "      <td>3.471580e+09</td>\n",
       "      <td>75335</td>\n",
       "      <td>3052819</td>\n",
       "      <td>83.67</td>\n",
       "      <td>May</td>\n",
       "      <td>2017</td>\n",
       "    </tr>\n",
       "    <tr>\n",
       "      <th>1</th>\n",
       "      <td>INFY</td>\n",
       "      <td>EQ</td>\n",
       "      <td>2017-05-16</td>\n",
       "      <td>951.55</td>\n",
       "      <td>953.1</td>\n",
       "      <td>960.15</td>\n",
       "      <td>946.95</td>\n",
       "      <td>956.00</td>\n",
       "      <td>955.00</td>\n",
       "      <td>952.92</td>\n",
       "      <td>3065084</td>\n",
       "      <td>2.920775e+09</td>\n",
       "      <td>71808</td>\n",
       "      <td>1858063</td>\n",
       "      <td>60.62</td>\n",
       "      <td>May</td>\n",
       "      <td>2017</td>\n",
       "    </tr>\n",
       "    <tr>\n",
       "      <th>2</th>\n",
       "      <td>INFY</td>\n",
       "      <td>EQ</td>\n",
       "      <td>2017-05-17</td>\n",
       "      <td>955.00</td>\n",
       "      <td>951.6</td>\n",
       "      <td>958.45</td>\n",
       "      <td>943.85</td>\n",
       "      <td>952.90</td>\n",
       "      <td>952.80</td>\n",
       "      <td>949.48</td>\n",
       "      <td>1457754</td>\n",
       "      <td>1.384110e+09</td>\n",
       "      <td>75429</td>\n",
       "      <td>792251</td>\n",
       "      <td>54.35</td>\n",
       "      <td>May</td>\n",
       "      <td>2017</td>\n",
       "    </tr>\n",
       "    <tr>\n",
       "      <th>3</th>\n",
       "      <td>INFY</td>\n",
       "      <td>EQ</td>\n",
       "      <td>2017-05-18</td>\n",
       "      <td>952.80</td>\n",
       "      <td>943.0</td>\n",
       "      <td>973.90</td>\n",
       "      <td>942.85</td>\n",
       "      <td>960.25</td>\n",
       "      <td>961.75</td>\n",
       "      <td>962.61</td>\n",
       "      <td>4028924</td>\n",
       "      <td>3.878282e+09</td>\n",
       "      <td>120990</td>\n",
       "      <td>2309450</td>\n",
       "      <td>57.32</td>\n",
       "      <td>May</td>\n",
       "      <td>2017</td>\n",
       "    </tr>\n",
       "    <tr>\n",
       "      <th>4</th>\n",
       "      <td>INFY</td>\n",
       "      <td>EQ</td>\n",
       "      <td>2017-05-19</td>\n",
       "      <td>961.75</td>\n",
       "      <td>961.5</td>\n",
       "      <td>962.70</td>\n",
       "      <td>947.85</td>\n",
       "      <td>957.40</td>\n",
       "      <td>957.95</td>\n",
       "      <td>954.18</td>\n",
       "      <td>2128698</td>\n",
       "      <td>2.031155e+09</td>\n",
       "      <td>88897</td>\n",
       "      <td>1457747</td>\n",
       "      <td>68.48</td>\n",
       "      <td>May</td>\n",
       "      <td>2017</td>\n",
       "    </tr>\n",
       "  </tbody>\n",
       "</table>\n",
       "</div>"
      ],
      "text/plain": [
       "  Symbol Series       Date  Prev Close  Open Price  High Price  Low Price  \\\n",
       "0   INFY     EQ 2017-05-15      964.25       963.5      963.50     949.10   \n",
       "1   INFY     EQ 2017-05-16      951.55       953.1      960.15     946.95   \n",
       "2   INFY     EQ 2017-05-17      955.00       951.6      958.45     943.85   \n",
       "3   INFY     EQ 2017-05-18      952.80       943.0      973.90     942.85   \n",
       "4   INFY     EQ 2017-05-19      961.75       961.5      962.70     947.85   \n",
       "\n",
       "   Last Price  Close Price  Average Price  Total Traded Quantity  \\\n",
       "0      953.25       951.55         951.49                3648582   \n",
       "1      956.00       955.00         952.92                3065084   \n",
       "2      952.90       952.80         949.48                1457754   \n",
       "3      960.25       961.75         962.61                4028924   \n",
       "4      957.40       957.95         954.18                2128698   \n",
       "\n",
       "       Turnover  No. of Trades  Deliverable Qty  % Dly Qt to Traded Qty month  \\\n",
       "0  3.471580e+09          75335          3052819                   83.67   May   \n",
       "1  2.920775e+09          71808          1858063                   60.62   May   \n",
       "2  1.384110e+09          75429           792251                   54.35   May   \n",
       "3  3.878282e+09         120990          2309450                   57.32   May   \n",
       "4  2.031155e+09          88897          1457747                   68.48   May   \n",
       "\n",
       "   year  \n",
       "0  2017  \n",
       "1  2017  \n",
       "2  2017  \n",
       "3  2017  \n",
       "4  2017  "
      ]
     },
     "execution_count": 5,
     "metadata": {},
     "output_type": "execute_result"
    }
   ],
   "source": [
    "data['month'] = data.Date.dt.month_name()\n",
    "data['year'] = data.Date.dt.year\n",
    "data.head()\n",
    "#data.groupby(data['Date'].dt.strftime('%B'))['Close Price'].sum().sort_values()\n"
   ]
  },
  {
   "cell_type": "code",
   "execution_count": 6,
   "metadata": {},
   "outputs": [],
   "source": [
    "# groupby each 1 month\n",
    "dm = data.groupby(pd.Grouper(key='Date', freq='1M')).sum()\n",
    "dm.index = dm.index.strftime('%B')\n",
    "price_permonth = dm[\"Close Price\"]\n",
    "# groupby each year\n",
    "dy = data.groupby(pd.Grouper(key='Date', freq='1Y')).sum() \n",
    "dy.index = dy.index.strftime('%B')\n",
    "price_peryear = dy[\"Close Price\"]"
   ]
  },
  {
   "cell_type": "code",
   "execution_count": 7,
   "metadata": {},
   "outputs": [],
   "source": [
    "vp = data[\"Close Price\"]*data[\"Total Traded Quantity\"]\n",
    "data[\"vp\"] = vp\n",
    "vwap = vp/data[\"Total Traded Quantity\"]\n"
   ]
  },
  {
   "cell_type": "markdown",
   "metadata": {},
   "source": [
    "Query 1.5 Write a function to calculate the average price over the last N days of the stock price data where N is a user defined parameter. Write a second function to calculate the profit/loss percentage over the last N days.\n",
    "Calculate the average price AND the profit/loss percentages over the course of last -\n",
    "1 week, 2 weeks, 1 month, 3 months, 6 months and 1 year.\n",
    "{Note : Profit/Loss percentage between N days is the percentage change between the closing prices of the 2 days }"
   ]
  },
  {
   "cell_type": "code",
   "execution_count": 8,
   "metadata": {},
   "outputs": [
    {
     "name": "stdout",
     "output_type": "stream",
     "text": [
      "Average close price of last 52 days is:\n",
      "732.9326923076923\n"
     ]
    }
   ],
   "source": [
    "data[\"Close Price\"][462] = 709.34\n",
    "def avg_price(N):\n",
    "    lastN = data[\"Close Price\"].tail(n=N)\n",
    "    print(\"Average close price of last\", N ,\"days is:\")\n",
    "    print(lastN.mean()) \n",
    "    return \n",
    "avg_price(52)         "
   ]
  },
  {
   "cell_type": "code",
   "execution_count": 9,
   "metadata": {},
   "outputs": [
    {
     "name": "stdout",
     "output_type": "stream",
     "text": [
      "There is profit of Rs 50.65000000000009\n"
     ]
    }
   ],
   "source": [
    "def profit_loss(N):\n",
    "    diff = data[\"Close Price\"][len(data)+1]-data[\"Close Price\"][len(data)+1-(N-1)]\n",
    "    if (diff > 0):\n",
    "        print(\"There is profit of Rs\",diff)\n",
    "    elif(diff < 0):\n",
    "        print(\"There is loss of Rs\",abs(diff))\n",
    "        return\n",
    "profit_loss(90)  \n"
   ]
  },
  {
   "cell_type": "code",
   "execution_count": 10,
   "metadata": {},
   "outputs": [
    {
     "name": "stdout",
     "output_type": "stream",
     "text": [
      "For last 1 week\n",
      "Average close price of last 7 days is:\n",
      "720.5\n",
      "There is loss of Rs 3.8999999999999773\n",
      "For last 2 weeks\n",
      "Average close price of last 14 days is:\n",
      "726.9928571428572\n",
      "There is loss of Rs 1.349999999999909\n",
      "For last 1 month\n",
      "Average close price of last 30 days is:\n",
      "736.7966666666666\n",
      "There is loss of Rs 10.0\n",
      "For last 3 months\n",
      "Average close price of last 90 days is:\n",
      "728.6027777777778\n",
      "There is profit of Rs 50.65000000000009\n",
      "For last 6 months\n",
      "Average close price of last 180 days is:\n",
      "758.6911111111111\n",
      "There is loss of Rs 710.6499999999999\n",
      "For last 1 year\n",
      "Average close price of last 367 days is:\n",
      "966.89863760218\n",
      "There is loss of Rs 251.25\n"
     ]
    },
    {
     "data": {
      "text/plain": [
       "(None, None)"
      ]
     },
     "execution_count": 10,
     "metadata": {},
     "output_type": "execute_result"
    }
   ],
   "source": [
    "print(\"For last 1 week\")\n",
    "avg_price(7),profit_loss(7)\n",
    "print(\"For last 2 weeks\")\n",
    "avg_price(14),profit_loss(14)\n",
    "print(\"For last 1 month\")\n",
    "avg_price(30),profit_loss(30)\n",
    "print(\"For last 3 months\")\n",
    "avg_price(90),profit_loss(90)\n",
    "print(\"For last 6 months\")\n",
    "avg_price(180),profit_loss(180)\n",
    "print(\"For last 1 year\")\n",
    "avg_price(367),profit_loss(367)\n"
   ]
  },
  {
   "cell_type": "markdown",
   "metadata": {},
   "source": [
    "Query 1.6 Add a column 'Day_Perc_Change' where the values are the daily change in percentages i.e. the percentage change between 2 consecutive day's closing prices. Instead of using the basic mathematical formula for computing the same, use 'pct_change()' function provided by Pandas for dataframes. You will note that the first entry of the column will have a ‘Nan’ value. Why does this happen? Either remove the first row, or set the entry to 0 before proceeding."
   ]
  },
  {
   "cell_type": "code",
   "execution_count": 11,
   "metadata": {},
   "outputs": [
    {
     "name": "stdout",
     "output_type": "stream",
     "text": [
      "0    0.000000\n",
      "1    0.362566\n",
      "2   -0.230366\n",
      "3    0.939337\n",
      "4   -0.395113\n",
      "Name: Day_Perc_Change, dtype: float64\n"
     ]
    }
   ],
   "source": [
    "data[\"Day_Perc_Change\"] = data[\"Close Price\"].pct_change()*100\n",
    "data[\"Day_Perc_Change\"][0] = 0\n",
    "print(data[\"Day_Perc_Change\"].head())"
   ]
  },
  {
   "cell_type": "markdown",
   "metadata": {},
   "source": [
    "1.7 Add another column 'Trend' whose values are:\n",
    "'Slight or No change' for 'Day_Perc_Change' in between -0.5 and 0.5\n",
    "'Slight positive' for 'Day_Perc_Change' in between 0.5 and 1\n",
    "'Slight negative' for 'Day_Perc_Change' in between -0.5 and -1\n",
    "'Positive' for 'Day_Perc_Change' in between 1 and 3\n",
    "'Negative' for 'Day_Perc_Change' in between -1 and -3\n",
    "'Among top gainers' for 'Day_Perc_Change' in between 3 and 7\n",
    "'Among top losers' for 'Day_Perc_Change' in between -3 and -7\n",
    "'Bull run' for 'Day_Perc_Change' >7\n",
    "'Bear drop' for 'Day_Perc_Change' <-7"
   ]
  },
  {
   "cell_type": "code",
   "execution_count": 14,
   "metadata": {},
   "outputs": [],
   "source": [
    "Trend = []\n",
    "for i in data.index:\n",
    "    if -0.5 <= data[\"Day_Perc_Change\"][i] <= 0.5:\n",
    "        Trend.append (\"Slight or No change\")\n",
    "    elif  0.5 <= data[\"Day_Perc_Change\"][i] <= 1:\n",
    "        Trend.append(\"Slight Positive\")\n",
    "    elif -1 <= data[\"Day_Perc_Change\"][i] <= -0.5:\n",
    "        Trend.append(\"Slight Negative\")\n",
    "    elif  1 <= data[\"Day_Perc_Change\"][i] <= 3:\n",
    "        Trend.append(\"Positive\")\n",
    "    elif -3 <= data[\"Day_Perc_Change\"][i] <= -1:\n",
    "        Trend.append(\"Negative\")\n",
    "    elif 3 <= data[\"Day_Perc_Change\"][i] <= 7:\n",
    "        Trend.append(\"Among top gainers\")\n",
    "    elif -7 <= data[\"Day_Perc_Change\"][i] <= -3:\n",
    "        Trend.append(\"Among top losers\")\n",
    "    elif 7 <= data[\"Day_Perc_Change\"][i] :\n",
    "        Trend.append(\"Bull run\")      \n",
    "    elif data[\"Day_Perc_Change\"][i] <= -7:\n",
    "        Trend.append(\"Bear drop\")    \n",
    "\n",
    "data[\"Trend\"] = Trend \n"
   ]
  },
  {
   "cell_type": "markdown",
   "metadata": {},
   "source": [
    "Query 1.8 Find the average and median values of the column 'Total Traded Quantity' for each of the types of 'Trend'.\n",
    "{Hint : use 'groupby()' on the 'Trend' column and then calculate the average and median values of the column 'Total Traded Quantity'}"
   ]
  },
  {
   "cell_type": "code",
   "execution_count": 23,
   "metadata": {},
   "outputs": [
    {
     "name": "stdout",
     "output_type": "stream",
     "text": [
      "Median Trend\n",
      "Among top gainers      12042170.5\n",
      "Among top losers       10985897.0\n",
      "Bear drop              48786302.0\n",
      "Negative                5088554.0\n",
      "Positive                5523811.5\n",
      "Slight Negative         4616803.0\n",
      "Slight Positive         5301784.0\n",
      "Slight or No change     4043539.5\n",
      "Name: Total Traded Quantity, dtype: float64\n",
      "Mean Trend\n",
      "Among top gainers      1.259063e+07\n",
      "Among top losers       1.463854e+07\n",
      "Bear drop              4.878630e+07\n",
      "Negative               5.634151e+06\n",
      "Positive               6.655530e+06\n",
      "Slight Negative        5.454672e+06\n",
      "Slight Positive        5.848807e+06\n",
      "Slight or No change    4.647983e+06\n",
      "Name: Total Traded Quantity, dtype: float64\n"
     ]
    }
   ],
   "source": [
    "datatrend = data.groupby(\"Trend\")\n",
    "print(\"Median\",datatrend[\"Total Traded Quantity\"].median())\n",
    "print(\"Mean\",datatrend[\"Total Traded Quantity\"].mean())"
   ]
  },
  {
   "cell_type": "code",
   "execution_count": 26,
   "metadata": {},
   "outputs": [],
   "source": [
    "data.to_csv(\"week2.csv\")"
   ]
  }
 ],
 "metadata": {
  "kernelspec": {
   "display_name": "Python 3",
   "language": "python",
   "name": "python3"
  },
  "language_info": {
   "codemirror_mode": {
    "name": "ipython",
    "version": 3
   },
   "file_extension": ".py",
   "mimetype": "text/x-python",
   "name": "python",
   "nbconvert_exporter": "python",
   "pygments_lexer": "ipython3",
   "version": "3.6.5"
  }
 },
 "nbformat": 4,
 "nbformat_minor": 2
}
