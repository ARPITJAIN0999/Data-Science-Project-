{
 "cells": [
  {
   "cell_type": "markdown",
   "metadata": {},
   "source": [
    "# Module 4 - Algo Trading using Classification\n"
   ]
  },
  {
   "cell_type": "markdown",
   "metadata": {},
   "source": [
    "   ### Welcome to the Answer notebook for Module 4 ! \n",
    "Make sure that you've submitted the module 3 notebook and unlocked Module 4 yourself before you start coding here\n"
   ]
  },
  {
   "cell_type": "markdown",
   "metadata": {},
   "source": [
    "#--------------------------------------------------------------------------------------------------------------------------------------------------------------------------------------------------------#"
   ]
  },
  {
   "cell_type": "markdown",
   "metadata": {},
   "source": [
    "### Query 4.1 \n",
    "Import the csv file of the stock which contained the Bollinger columns as well.\n",
    "\n"
   ]
  },
  {
   "cell_type": "code",
   "execution_count": 179,
   "metadata": {},
   "outputs": [],
   "source": [
    "import pandas as pd\n",
    "import numpy as np\n",
    "import matplotlib.pyplot as plt\n",
    "import warnings\n",
    "warnings.filterwarnings('ignore')"
   ]
  },
  {
   "cell_type": "code",
   "execution_count": 91,
   "metadata": {},
   "outputs": [],
   "source": [
    "df = pd.read_csv(\"stock5.csv\")\n",
    "df.dropna(inplace = True )"
   ]
  },
  {
   "cell_type": "markdown",
   "metadata": {},
   "source": [
    "### Query 4.1a \n",
    "\n",
    "Create a new column 'Call' , whose entries are - \n",
    "\n",
    ">'Buy' if the stock price is below the lower Bollinger band \n",
    "\n",
    ">'Hold Buy/ Liquidate Short' if the stock price is between the lower and middle Bollinger band \n",
    "\n",
    ">'Hold Short/ Liquidate Buy' if the stock price is between the middle and upper Bollinger band \n",
    "\n",
    ">'Short' if the stock price is above the upper Bollinger band\n",
    "\n",
    "\n"
   ]
  },
  {
   "cell_type": "code",
   "execution_count": 92,
   "metadata": {},
   "outputs": [],
   "source": [
    "Call = []\n",
    "for i in df.index  :\n",
    "    if (df[\"Close Price\"][i] < df[\"Lowerbound\"][i]) :\n",
    "        Call.append(\"Buy\")\n",
    "    elif (df[\"Lowerbound\"][i] < df[\"Close Price\"][i] < df[\"Middlebound\"][i]):\n",
    "        Call.append(\"Hold Buy\")\n",
    "    elif (df[\"Middlebound\"][i] < df[\"Close Price\"][i] < df[\"Upperbound\"][i]):\n",
    "        Call.append(\"Hold Short\")     \n",
    "    elif (df[\"Close Price\"][i]> df[\"Upperbound\"][i]):\n",
    "        Call.append(\"Short\")"
   ]
  },
  {
   "cell_type": "code",
   "execution_count": 95,
   "metadata": {},
   "outputs": [],
   "source": [
    "df[\"Call\"] = Call"
   ]
  },
  {
   "cell_type": "markdown",
   "metadata": {},
   "source": [
    "##### Now train a classification model with the 3 bollinger columns and the stock price as inputs and 'Calls' as output. Check the accuracy on a test set. (There are many classifier models to choose from, try each one out and compare the accuracy for each)"
   ]
  },
  {
   "cell_type": "code",
   "execution_count": 96,
   "metadata": {},
   "outputs": [],
   "source": [
    "from sklearn.model_selection import train_test_split\n",
    "train, test = train_test_split(df, test_size=0.2)"
   ]
  },
  {
   "cell_type": "code",
   "execution_count": 103,
   "metadata": {},
   "outputs": [],
   "source": [
    "xtrain = train[[\"Close Price\" , \"Upperbound\" , \"Lowerbound\", \"Middlebound\"]]\n",
    "ytrain = train[\"Call\"]\n",
    "xtest = test[[\"Close Price\" , \"Upperbound\" , \"Lowerbound\", \"Middlebound\"]]\n",
    "ytest = test[\"Call\"]"
   ]
  },
  {
   "cell_type": "code",
   "execution_count": 112,
   "metadata": {},
   "outputs": [],
   "source": [
    "def accuracy(confusion_matrix):\n",
    "    diagonal_sum = confusion_matrix.trace()\n",
    "    sum_of_all_elements = confusion_matrix.sum()\n",
    "    return diagonal_sum / sum_of_all_elements "
   ]
  },
  {
   "cell_type": "code",
   "execution_count": 114,
   "metadata": {},
   "outputs": [
    {
     "name": "stdout",
     "output_type": "stream",
     "text": [
      "Accuracy for LogisticRegression 0.9587628865979382\n"
     ]
    }
   ],
   "source": [
    "from sklearn.metrics import confusion_matrix\n",
    "from sklearn.linear_model import LogisticRegression\n",
    "lr = LogisticRegression()\n",
    "lr.fit(xtrain,ytrain)\n",
    "y = lr.predict(xtest)\n",
    "table = confusion_matrix(ytest,y)\n",
    "print(\"Accuracy for LogisticRegression\",accuracy(table))"
   ]
  },
  {
   "cell_type": "code",
   "execution_count": 153,
   "metadata": {},
   "outputs": [
    {
     "name": "stdout",
     "output_type": "stream",
     "text": [
      "Accuracy for Naive Bayes 0.5051546391752577\n"
     ]
    }
   ],
   "source": [
    "from sklearn.naive_bayes import GaussianNB\n",
    "nb = GaussianNB() \n",
    "nb.fit(xtrain,ytrain)\n",
    "ynb = nb.predict(xtest)\n",
    "tablenb = confusion_matrix(ytest,ynb)\n",
    "print(\"Accuracy for Naive Bayes\",accuracy(tablenb))"
   ]
  },
  {
   "cell_type": "code",
   "execution_count": 154,
   "metadata": {},
   "outputs": [
    {
     "name": "stdout",
     "output_type": "stream",
     "text": [
      "Accuracy for Stochastic Gradient Descent 0.5154639175257731\n"
     ]
    }
   ],
   "source": [
    "from sklearn.linear_model import SGDClassifier\n",
    "sgd = SGDClassifier()\n",
    "sgd.fit(xtrain,ytrain)\n",
    "ysgd = sgd.predict(xtest)\n",
    "tablesgd = confusion_matrix(ytest,ysgd)\n",
    "print(\"Accuracy for Stochastic Gradient Descent\",accuracy(tablesgd))"
   ]
  },
  {
   "cell_type": "code",
   "execution_count": 155,
   "metadata": {},
   "outputs": [
    {
     "name": "stdout",
     "output_type": "stream",
     "text": [
      "Accuracy for KNN  0.845360824742268\n"
     ]
    }
   ],
   "source": [
    "from sklearn.neighbors import KNeighborsClassifier\n",
    "KNN = KNeighborsClassifier()\n",
    "KNN.fit(xtrain,ytrain)\n",
    "yknn = KNN.predict(xtest)\n",
    "tabelknn = confusion_matrix(ytest,yknn)\n",
    "print(\"Accuracy for KNN \", accuracy(tabelknn))"
   ]
  },
  {
   "cell_type": "code",
   "execution_count": 158,
   "metadata": {},
   "outputs": [
    {
     "name": "stdout",
     "output_type": "stream",
     "text": [
      "Accuracy for Decision Tree is 0.7938144329896907\n"
     ]
    }
   ],
   "source": [
    "from sklearn.tree import DecisionTreeClassifier\n",
    "Dtree = DecisionTreeClassifier()\n",
    "Dtree.fit(xtrain,ytrain)\n",
    "ydtree = Dtree.predict(xtest)\n",
    "tabeldtree = confusion_matrix(ytest,ydtree)\n",
    "print(\"Accuracy for Decision Tree is\",accuracy(tabeldtree))"
   ]
  },
  {
   "cell_type": "code",
   "execution_count": 164,
   "metadata": {},
   "outputs": [
    {
     "name": "stdout",
     "output_type": "stream",
     "text": [
      "Accuracy for Random Forest is 0.7938144329896907\n"
     ]
    }
   ],
   "source": [
    "from sklearn.ensemble import RandomForestClassifier\n",
    "rf = RandomForestClassifier()\n",
    "rf.fit(xtrain,ytrain)\n",
    "yrf = rf.predict(xtest)\n",
    "tabelrf = confusion_matrix(ytest,yrf)\n",
    "print(\"Accuracy for Random Forest is\",accuracy(tabelrf))"
   ]
  },
  {
   "cell_type": "code",
   "execution_count": 180,
   "metadata": {},
   "outputs": [
    {
     "name": "stdout",
     "output_type": "stream",
     "text": [
      "Accuracy for Support Vector Machine is 0.5154639175257731\n"
     ]
    }
   ],
   "source": [
    "from sklearn.svm import SVC\n",
    "svm =  SVC(kernel=\"rbf\", C=0.025,random_state=101)\n",
    "svm.fit(xtrain,ytrain)\n",
    "ysvm = svm.predict(xtest)\n",
    "tabelsvm = confusion_matrix(ytest,ysvm)\n",
    "print(\"Accuracy for Support Vector Machine is\",accuracy(tabelsvm))"
   ]
  },
  {
   "cell_type": "markdown",
   "metadata": {},
   "source": [
    "Import another stock data and create the bollinger columns. Using the already defined model, predict the daily calls for this new stock."
   ]
  },
  {
   "cell_type": "code",
   "execution_count": 184,
   "metadata": {},
   "outputs": [],
   "source": [
    "stock2 = pd.read_csv(\"IDBI.csv\")\n",
    "rolling_mean = stock2[\"Close Price\"].rolling(window = 14).mean()\n",
    "deviation = stock2[\"Close Price\"].rolling(window = 14).std()\n",
    "upper_bound = rolling_mean+2*deviation\n",
    "lower_bound = rolling_mean-2*deviation"
   ]
  },
  {
   "cell_type": "code",
   "execution_count": 193,
   "metadata": {},
   "outputs": [],
   "source": [
    "stock2[\"Upperbound\"] = upper_bound\n",
    "stock2[\"Lowerbound\"] = lower_bound\n",
    "stock2[\"Middlebound\"] = rolling_mean\n"
   ]
  },
  {
   "cell_type": "code",
   "execution_count": 194,
   "metadata": {},
   "outputs": [],
   "source": [
    "stock2.dropna(inplace = True )"
   ]
  },
  {
   "cell_type": "code",
   "execution_count": 211,
   "metadata": {},
   "outputs": [],
   "source": [
    "x = stock2[[\"Close Price\" , \"Upperbound\" , \"Lowerbound\", \"Middlebound\"]]\n",
    "Call_lr = lr.predict(x)\n",
    "Call_KNN = KNN.predict(x)\n",
    "Call_SVM = svm.predict(x)\n",
    "Call_rf = rf.predict(x)\n",
    "Call_Dtree = Dtree.predict(x)\n",
    "Call_sgd = sgd.predict(x)\n",
    "Call_nb = nb.predict(x)"
   ]
  },
  {
   "cell_type": "markdown",
   "metadata": {},
   "source": [
    "### 4.2 Now, we'll again utilize classification to make a trade call, and measure the efficiency of our trading algorithm over the past two years. For this assignment , we will use RandomForest classifier."
   ]
  },
  {
   "cell_type": "code",
   "execution_count": 300,
   "metadata": {},
   "outputs": [],
   "source": [
    "stock = pd.read_csv(\"ADANIPOWER.csv\")"
   ]
  },
  {
   "cell_type": "markdown",
   "metadata": {},
   "source": [
    "Define 4 new columns , whose values are: \n",
    "% change between Open and Close price for the day \n",
    "% change between Low and High price for the day \n",
    "5 day rolling mean of the day to day % change in Close Price \n",
    "5 day rolling std of the day to day % change in Close Price"
   ]
  },
  {
   "cell_type": "code",
   "execution_count": 301,
   "metadata": {},
   "outputs": [
    {
     "data": {
      "text/html": [
       "<div>\n",
       "<style scoped>\n",
       "    .dataframe tbody tr th:only-of-type {\n",
       "        vertical-align: middle;\n",
       "    }\n",
       "\n",
       "    .dataframe tbody tr th {\n",
       "        vertical-align: top;\n",
       "    }\n",
       "\n",
       "    .dataframe thead th {\n",
       "        text-align: right;\n",
       "    }\n",
       "</style>\n",
       "<table border=\"1\" class=\"dataframe\">\n",
       "  <thead>\n",
       "    <tr style=\"text-align: right;\">\n",
       "      <th></th>\n",
       "      <th>Symbol</th>\n",
       "      <th>Series</th>\n",
       "      <th>Date</th>\n",
       "      <th>Prev Close</th>\n",
       "      <th>Open Price</th>\n",
       "      <th>High Price</th>\n",
       "      <th>Low Price</th>\n",
       "      <th>Last Price</th>\n",
       "      <th>Close Price</th>\n",
       "      <th>Average Price</th>\n",
       "      <th>Total Traded Quantity</th>\n",
       "      <th>Turnover</th>\n",
       "      <th>No. of Trades</th>\n",
       "      <th>Deliverable Qty</th>\n",
       "      <th>% Dly Qt to Traded Qty</th>\n",
       "      <th>Open_Close</th>\n",
       "      <th>Low_High</th>\n",
       "      <th>5daymean</th>\n",
       "      <th>5daystd</th>\n",
       "    </tr>\n",
       "  </thead>\n",
       "  <tbody>\n",
       "    <tr>\n",
       "      <th>0</th>\n",
       "      <td>ADANIPOWER</td>\n",
       "      <td>EQ</td>\n",
       "      <td>15-May-2017</td>\n",
       "      <td>30.25</td>\n",
       "      <td>30.40</td>\n",
       "      <td>30.50</td>\n",
       "      <td>30.10</td>\n",
       "      <td>30.35</td>\n",
       "      <td>30.25</td>\n",
       "      <td>30.28</td>\n",
       "      <td>2666848</td>\n",
       "      <td>8.074250e+07</td>\n",
       "      <td>4292</td>\n",
       "      <td>861729</td>\n",
       "      <td>32.31</td>\n",
       "      <td>-0.004934</td>\n",
       "      <td>0.013289</td>\n",
       "      <td>NaN</td>\n",
       "      <td>NaN</td>\n",
       "    </tr>\n",
       "    <tr>\n",
       "      <th>1</th>\n",
       "      <td>ADANIPOWER</td>\n",
       "      <td>EQ</td>\n",
       "      <td>16-May-2017</td>\n",
       "      <td>30.25</td>\n",
       "      <td>30.35</td>\n",
       "      <td>33.65</td>\n",
       "      <td>30.35</td>\n",
       "      <td>32.80</td>\n",
       "      <td>32.85</td>\n",
       "      <td>32.59</td>\n",
       "      <td>39322702</td>\n",
       "      <td>1.281594e+09</td>\n",
       "      <td>57037</td>\n",
       "      <td>5217922</td>\n",
       "      <td>13.27</td>\n",
       "      <td>0.082372</td>\n",
       "      <td>0.108731</td>\n",
       "      <td>NaN</td>\n",
       "      <td>NaN</td>\n",
       "    </tr>\n",
       "    <tr>\n",
       "      <th>2</th>\n",
       "      <td>ADANIPOWER</td>\n",
       "      <td>EQ</td>\n",
       "      <td>17-May-2017</td>\n",
       "      <td>32.85</td>\n",
       "      <td>32.95</td>\n",
       "      <td>33.75</td>\n",
       "      <td>32.45</td>\n",
       "      <td>33.00</td>\n",
       "      <td>33.10</td>\n",
       "      <td>33.13</td>\n",
       "      <td>27368209</td>\n",
       "      <td>9.067376e+08</td>\n",
       "      <td>38034</td>\n",
       "      <td>3760475</td>\n",
       "      <td>13.74</td>\n",
       "      <td>0.004552</td>\n",
       "      <td>0.040062</td>\n",
       "      <td>NaN</td>\n",
       "      <td>NaN</td>\n",
       "    </tr>\n",
       "    <tr>\n",
       "      <th>3</th>\n",
       "      <td>ADANIPOWER</td>\n",
       "      <td>EQ</td>\n",
       "      <td>18-May-2017</td>\n",
       "      <td>33.10</td>\n",
       "      <td>32.80</td>\n",
       "      <td>32.85</td>\n",
       "      <td>31.70</td>\n",
       "      <td>31.90</td>\n",
       "      <td>31.90</td>\n",
       "      <td>32.37</td>\n",
       "      <td>9833756</td>\n",
       "      <td>3.182696e+08</td>\n",
       "      <td>15013</td>\n",
       "      <td>2046350</td>\n",
       "      <td>20.81</td>\n",
       "      <td>-0.027439</td>\n",
       "      <td>0.036278</td>\n",
       "      <td>NaN</td>\n",
       "      <td>NaN</td>\n",
       "    </tr>\n",
       "    <tr>\n",
       "      <th>4</th>\n",
       "      <td>ADANIPOWER</td>\n",
       "      <td>EQ</td>\n",
       "      <td>19-May-2017</td>\n",
       "      <td>31.90</td>\n",
       "      <td>33.25</td>\n",
       "      <td>33.25</td>\n",
       "      <td>32.00</td>\n",
       "      <td>32.45</td>\n",
       "      <td>32.40</td>\n",
       "      <td>32.55</td>\n",
       "      <td>12551755</td>\n",
       "      <td>4.085741e+08</td>\n",
       "      <td>20421</td>\n",
       "      <td>2456282</td>\n",
       "      <td>19.57</td>\n",
       "      <td>-0.025564</td>\n",
       "      <td>0.039062</td>\n",
       "      <td>NaN</td>\n",
       "      <td>NaN</td>\n",
       "    </tr>\n",
       "    <tr>\n",
       "      <th>5</th>\n",
       "      <td>ADANIPOWER</td>\n",
       "      <td>EQ</td>\n",
       "      <td>22-May-2017</td>\n",
       "      <td>32.40</td>\n",
       "      <td>32.70</td>\n",
       "      <td>32.80</td>\n",
       "      <td>31.10</td>\n",
       "      <td>31.25</td>\n",
       "      <td>31.45</td>\n",
       "      <td>31.97</td>\n",
       "      <td>6438711</td>\n",
       "      <td>2.058405e+08</td>\n",
       "      <td>10188</td>\n",
       "      <td>1333782</td>\n",
       "      <td>20.72</td>\n",
       "      <td>-0.038226</td>\n",
       "      <td>0.054662</td>\n",
       "      <td>0.008732</td>\n",
       "      <td>0.048693</td>\n",
       "    </tr>\n",
       "  </tbody>\n",
       "</table>\n",
       "</div>"
      ],
      "text/plain": [
       "       Symbol Series         Date  Prev Close  Open Price  High Price  \\\n",
       "0  ADANIPOWER     EQ  15-May-2017       30.25       30.40       30.50   \n",
       "1  ADANIPOWER     EQ  16-May-2017       30.25       30.35       33.65   \n",
       "2  ADANIPOWER     EQ  17-May-2017       32.85       32.95       33.75   \n",
       "3  ADANIPOWER     EQ  18-May-2017       33.10       32.80       32.85   \n",
       "4  ADANIPOWER     EQ  19-May-2017       31.90       33.25       33.25   \n",
       "5  ADANIPOWER     EQ  22-May-2017       32.40       32.70       32.80   \n",
       "\n",
       "   Low Price  Last Price  Close Price  Average Price  Total Traded Quantity  \\\n",
       "0      30.10       30.35        30.25          30.28                2666848   \n",
       "1      30.35       32.80        32.85          32.59               39322702   \n",
       "2      32.45       33.00        33.10          33.13               27368209   \n",
       "3      31.70       31.90        31.90          32.37                9833756   \n",
       "4      32.00       32.45        32.40          32.55               12551755   \n",
       "5      31.10       31.25        31.45          31.97                6438711   \n",
       "\n",
       "       Turnover  No. of Trades  Deliverable Qty  % Dly Qt to Traded Qty  \\\n",
       "0  8.074250e+07           4292           861729                   32.31   \n",
       "1  1.281594e+09          57037          5217922                   13.27   \n",
       "2  9.067376e+08          38034          3760475                   13.74   \n",
       "3  3.182696e+08          15013          2046350                   20.81   \n",
       "4  4.085741e+08          20421          2456282                   19.57   \n",
       "5  2.058405e+08          10188          1333782                   20.72   \n",
       "\n",
       "   Open_Close  Low_High  5daymean   5daystd  \n",
       "0   -0.004934  0.013289       NaN       NaN  \n",
       "1    0.082372  0.108731       NaN       NaN  \n",
       "2    0.004552  0.040062       NaN       NaN  \n",
       "3   -0.027439  0.036278       NaN       NaN  \n",
       "4   -0.025564  0.039062       NaN       NaN  \n",
       "5   -0.038226  0.054662  0.008732  0.048693  "
      ]
     },
     "execution_count": 301,
     "metadata": {},
     "output_type": "execute_result"
    }
   ],
   "source": [
    "stock[\"Open_Close\"] = stock[[\"Open Price\" , \"Close Price\"]].pct_change(axis = 1)[\"Close Price\"]\n",
    "stock[\"Low_High\"] = stock[[\"Low Price\" , \"High Price\"]].pct_change(axis = 1)[\"High Price\"]\n",
    "pctchange = stock[\"Close Price\"].pct_change()\n",
    "stock[\"5daymean\"] = pctchange.rolling(window =5).mean()\n",
    "stock[\"5daystd\"] = pctchange.rolling(window = 5).std()\n",
    "stock.head(6)"
   ]
  },
  {
   "cell_type": "markdown",
   "metadata": {},
   "source": [
    "Create a new column 'Action' whose values are: \n",
    "1 if next day's price(Close) is greater than present day's. \n",
    "(-1) if next day's price(Close) is less than present day's. "
   ]
  },
  {
   "cell_type": "code",
   "execution_count": 302,
   "metadata": {},
   "outputs": [],
   "source": [
    "Action = []\n",
    "for i in range(0,493):\n",
    "    if stock[\"Close Price\"][ i+1 ] > stock[\"Close Price\"][ i ] : \n",
    "        Action.append(1)\n",
    "    else:\n",
    "        Action.append(-1)\n",
    "Action.append(1)\n",
    "stock[\"Action\"] = Action"
   ]
  },
  {
   "cell_type": "code",
   "execution_count": 303,
   "metadata": {},
   "outputs": [],
   "source": [
    "stock.dropna(inplace = True)"
   ]
  },
  {
   "cell_type": "markdown",
   "metadata": {},
   "source": [
    "Construct a classification model with the 4 new inputs and 'Action' as target"
   ]
  },
  {
   "cell_type": "code",
   "execution_count": 304,
   "metadata": {},
   "outputs": [],
   "source": [
    "train, test = train_test_split(stock, test_size=0.2)\n",
    "xtrain = train[[\"Open_Close\" , \"Low_High\" , \"5daymean\" , \"5daystd\"]]\n",
    "ytrain = train[\"Action\"]\n",
    "xtest = test[[\"Open_Close\" , \"Low_High\" , \"5daymean\" , \"5daystd\"]]\n",
    "ytest = test[\"Action\"]"
   ]
  },
  {
   "cell_type": "code",
   "execution_count": 305,
   "metadata": {},
   "outputs": [
    {
     "data": {
      "text/plain": [
       "0.4897959183673469"
      ]
     },
     "execution_count": 305,
     "metadata": {},
     "output_type": "execute_result"
    }
   ],
   "source": [
    "rf = RandomForestClassifier()\n",
    "rf.fit(xtrain,ytrain)\n",
    "y = rf.predict(xtest)\n",
    "table = confusion_matrix(ytest,y)\n",
    "accuracy(table)"
   ]
  },
  {
   "cell_type": "code",
   "execution_count": 306,
   "metadata": {},
   "outputs": [
    {
     "data": {
      "text/html": [
       "<div>\n",
       "<style scoped>\n",
       "    .dataframe tbody tr th:only-of-type {\n",
       "        vertical-align: middle;\n",
       "    }\n",
       "\n",
       "    .dataframe tbody tr th {\n",
       "        vertical-align: top;\n",
       "    }\n",
       "\n",
       "    .dataframe thead th {\n",
       "        text-align: right;\n",
       "    }\n",
       "</style>\n",
       "<table border=\"1\" class=\"dataframe\">\n",
       "  <thead>\n",
       "    <tr style=\"text-align: right;\">\n",
       "      <th></th>\n",
       "      <th>Symbol</th>\n",
       "      <th>Series</th>\n",
       "      <th>Date</th>\n",
       "      <th>Prev Close</th>\n",
       "      <th>Open Price</th>\n",
       "      <th>High Price</th>\n",
       "      <th>Low Price</th>\n",
       "      <th>Last Price</th>\n",
       "      <th>Close Price</th>\n",
       "      <th>Average Price</th>\n",
       "      <th>...</th>\n",
       "      <th>No. of Trades</th>\n",
       "      <th>Deliverable Qty</th>\n",
       "      <th>% Dly Qt to Traded Qty</th>\n",
       "      <th>Open_Close</th>\n",
       "      <th>Low_High</th>\n",
       "      <th>5daymean</th>\n",
       "      <th>5daystd</th>\n",
       "      <th>Action</th>\n",
       "      <th>daily_return</th>\n",
       "      <th>cumluative_return</th>\n",
       "    </tr>\n",
       "  </thead>\n",
       "  <tbody>\n",
       "    <tr>\n",
       "      <th>5</th>\n",
       "      <td>ADANIPOWER</td>\n",
       "      <td>EQ</td>\n",
       "      <td>22-May-2017</td>\n",
       "      <td>32.40</td>\n",
       "      <td>32.70</td>\n",
       "      <td>32.80</td>\n",
       "      <td>31.10</td>\n",
       "      <td>31.25</td>\n",
       "      <td>31.45</td>\n",
       "      <td>31.97</td>\n",
       "      <td>...</td>\n",
       "      <td>10188</td>\n",
       "      <td>1333782</td>\n",
       "      <td>20.72</td>\n",
       "      <td>-0.038226</td>\n",
       "      <td>0.054662</td>\n",
       "      <td>0.008732</td>\n",
       "      <td>0.048693</td>\n",
       "      <td>-1</td>\n",
       "      <td>NaN</td>\n",
       "      <td>NaN</td>\n",
       "    </tr>\n",
       "    <tr>\n",
       "      <th>6</th>\n",
       "      <td>ADANIPOWER</td>\n",
       "      <td>EQ</td>\n",
       "      <td>23-May-2017</td>\n",
       "      <td>31.45</td>\n",
       "      <td>31.25</td>\n",
       "      <td>31.25</td>\n",
       "      <td>29.70</td>\n",
       "      <td>29.80</td>\n",
       "      <td>29.85</td>\n",
       "      <td>30.13</td>\n",
       "      <td>...</td>\n",
       "      <td>14648</td>\n",
       "      <td>2235158</td>\n",
       "      <td>25.37</td>\n",
       "      <td>-0.044800</td>\n",
       "      <td>0.052189</td>\n",
       "      <td>-0.018633</td>\n",
       "      <td>0.028853</td>\n",
       "      <td>-1</td>\n",
       "      <td>-0.050874</td>\n",
       "      <td>0.949126</td>\n",
       "    </tr>\n",
       "    <tr>\n",
       "      <th>7</th>\n",
       "      <td>ADANIPOWER</td>\n",
       "      <td>EQ</td>\n",
       "      <td>24-May-2017</td>\n",
       "      <td>29.85</td>\n",
       "      <td>29.90</td>\n",
       "      <td>30.00</td>\n",
       "      <td>27.85</td>\n",
       "      <td>28.00</td>\n",
       "      <td>28.00</td>\n",
       "      <td>28.79</td>\n",
       "      <td>...</td>\n",
       "      <td>24652</td>\n",
       "      <td>4221244</td>\n",
       "      <td>27.38</td>\n",
       "      <td>-0.063545</td>\n",
       "      <td>0.077199</td>\n",
       "      <td>-0.032550</td>\n",
       "      <td>0.029797</td>\n",
       "      <td>1</td>\n",
       "      <td>-0.061977</td>\n",
       "      <td>0.890302</td>\n",
       "    </tr>\n",
       "    <tr>\n",
       "      <th>8</th>\n",
       "      <td>ADANIPOWER</td>\n",
       "      <td>EQ</td>\n",
       "      <td>25-May-2017</td>\n",
       "      <td>28.00</td>\n",
       "      <td>28.00</td>\n",
       "      <td>28.95</td>\n",
       "      <td>27.40</td>\n",
       "      <td>28.55</td>\n",
       "      <td>28.65</td>\n",
       "      <td>28.10</td>\n",
       "      <td>...</td>\n",
       "      <td>18914</td>\n",
       "      <td>2396425</td>\n",
       "      <td>18.80</td>\n",
       "      <td>0.023214</td>\n",
       "      <td>0.056569</td>\n",
       "      <td>-0.020657</td>\n",
       "      <td>0.038536</td>\n",
       "      <td>1</td>\n",
       "      <td>0.023214</td>\n",
       "      <td>0.910970</td>\n",
       "    </tr>\n",
       "    <tr>\n",
       "      <th>9</th>\n",
       "      <td>ADANIPOWER</td>\n",
       "      <td>EQ</td>\n",
       "      <td>26-May-2017</td>\n",
       "      <td>28.65</td>\n",
       "      <td>28.55</td>\n",
       "      <td>29.65</td>\n",
       "      <td>28.30</td>\n",
       "      <td>28.80</td>\n",
       "      <td>28.90</td>\n",
       "      <td>28.99</td>\n",
       "      <td>...</td>\n",
       "      <td>16300</td>\n",
       "      <td>2701720</td>\n",
       "      <td>23.98</td>\n",
       "      <td>0.012259</td>\n",
       "      <td>0.047703</td>\n",
       "      <td>-0.022046</td>\n",
       "      <td>0.036993</td>\n",
       "      <td>-1</td>\n",
       "      <td>0.008726</td>\n",
       "      <td>0.918919</td>\n",
       "    </tr>\n",
       "  </tbody>\n",
       "</table>\n",
       "<p>5 rows × 22 columns</p>\n",
       "</div>"
      ],
      "text/plain": [
       "       Symbol Series         Date  Prev Close  Open Price  High Price  \\\n",
       "5  ADANIPOWER     EQ  22-May-2017       32.40       32.70       32.80   \n",
       "6  ADANIPOWER     EQ  23-May-2017       31.45       31.25       31.25   \n",
       "7  ADANIPOWER     EQ  24-May-2017       29.85       29.90       30.00   \n",
       "8  ADANIPOWER     EQ  25-May-2017       28.00       28.00       28.95   \n",
       "9  ADANIPOWER     EQ  26-May-2017       28.65       28.55       29.65   \n",
       "\n",
       "   Low Price  Last Price  Close Price  Average Price        ...          \\\n",
       "5      31.10       31.25        31.45          31.97        ...           \n",
       "6      29.70       29.80        29.85          30.13        ...           \n",
       "7      27.85       28.00        28.00          28.79        ...           \n",
       "8      27.40       28.55        28.65          28.10        ...           \n",
       "9      28.30       28.80        28.90          28.99        ...           \n",
       "\n",
       "   No. of Trades  Deliverable Qty  % Dly Qt to Traded Qty  Open_Close  \\\n",
       "5          10188          1333782                   20.72   -0.038226   \n",
       "6          14648          2235158                   25.37   -0.044800   \n",
       "7          24652          4221244                   27.38   -0.063545   \n",
       "8          18914          2396425                   18.80    0.023214   \n",
       "9          16300          2701720                   23.98    0.012259   \n",
       "\n",
       "   Low_High  5daymean   5daystd  Action  daily_return  cumluative_return  \n",
       "5  0.054662  0.008732  0.048693      -1           NaN                NaN  \n",
       "6  0.052189 -0.018633  0.028853      -1     -0.050874           0.949126  \n",
       "7  0.077199 -0.032550  0.029797       1     -0.061977           0.890302  \n",
       "8  0.056569 -0.020657  0.038536       1      0.023214           0.910970  \n",
       "9  0.047703 -0.022046  0.036993      -1      0.008726           0.918919  \n",
       "\n",
       "[5 rows x 22 columns]"
      ]
     },
     "execution_count": 306,
     "metadata": {},
     "output_type": "execute_result"
    }
   ],
   "source": [
    "stock['daily_return'] = stock['Close Price'].pct_change()\n",
    "stock['cumluative_return'] = np.exp(np.log1p(stock['daily_return']).cumsum())\n",
    "stock.head()"
   ]
  },
  {
   "cell_type": "code",
   "execution_count": 307,
   "metadata": {},
   "outputs": [],
   "source": [
    "stock.dropna(inplace = True)"
   ]
  },
  {
   "cell_type": "markdown",
   "metadata": {},
   "source": [
    "Plotting Net Cumulative Return"
   ]
  },
  {
   "cell_type": "code",
   "execution_count": 321,
   "metadata": {},
   "outputs": [
    {
     "data": {
      "text/plain": [
       "Text(0, 0.5, 'Strategy Returns(in %)')"
      ]
     },
     "execution_count": 321,
     "metadata": {},
     "output_type": "execute_result"
    },
    {
     "data": {
      "image/png": "[encoded data removed]",
      "text/plain": [
       "<Figure size 1152x648 with 1 Axes>"
      ]
     },
     "metadata": {
      "needs_background": "light"
     },
     "output_type": "display_data"
    }
   ],
   "source": [
    "fig = plt.figure(figsize = (16,9))\n",
    "plt.plot(stock[\"cumluative_return\"])\n",
    "plt.ylabel(\"Strategy Returns(in %)\")"
   ]
  }
 ],
 "metadata": {
  "kernelspec": {
   "display_name": "Python 3",
   "language": "python",
   "name": "python3"
  },
  "language_info": {
   "codemirror_mode": {
    "name": "ipython",
    "version": 3
   },
   "file_extension": ".py",
   "mimetype": "text/x-python",
   "name": "python",
   "nbconvert_exporter": "python",
   "pygments_lexer": "ipython3",
   "version": "3.7.1"
  }
 },
 "nbformat": 4,
 "nbformat_minor": 2
}
